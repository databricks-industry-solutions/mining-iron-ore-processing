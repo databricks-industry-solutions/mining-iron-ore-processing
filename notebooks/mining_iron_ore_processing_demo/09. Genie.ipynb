{
 "cells": [
  {
   "cell_type": "markdown",
   "metadata": {
    "application/vnd.databricks.v1+cell": {
     "cellMetadata": {
      "byteLimit": 2048000,
      "rowLimit": 10000
     },
     "inputWidgets": {},
     "nuid": "c69db18f-bc38-4adf-8e84-70692ae5ca4e",
     "showTitle": false,
     "tableResultSettingsMap": {},
     "title": ""
    }
   },
   "source": [
    "# 9. What is a Genie Space? \n",
    "\n",
    "Genie Spaces is a Databricks feature that allows business teams to interact with their data using natural language. It uses generative AI tailored to your organization's terminology and data, with the ability to monitor and refine its performance through user feedback."
   ]
  },
  {
   "cell_type": "markdown",
   "metadata": {
    "application/vnd.databricks.v1+cell": {
     "cellMetadata": {
      "byteLimit": 2048000,
      "rowLimit": 10000
     },
     "inputWidgets": {},
     "nuid": "7d944b28-7df3-420c-8795-5238d71ffa8e",
     "showTitle": false,
     "tableResultSettingsMap": {},
     "title": ""
    }
   },
   "source": [
    "## 9.1 What data does this Genie space contain?\n",
    "\n",
    "This Genie space contains the iron ore processing plant data we ingested and transformed. By ensuring the metadata was well described and the primary and foreign keys were added to allow the LLM to connect the tables, we're able to interrogate the data in Natural language "
   ]
  },
  {
   "cell_type": "markdown",
   "metadata": {
    "application/vnd.databricks.v1+cell": {
     "cellMetadata": {
      "byteLimit": 2048000,
      "rowLimit": 10000
     },
     "inputWidgets": {},
     "nuid": "c801291c-9b0b-4155-99cd-60be91f04b1a",
     "showTitle": false,
     "tableResultSettingsMap": {},
     "title": ""
    }
   },
   "source": [
    "## 9.2 How do Genie spaces work?\n",
    "\n",
    "By providing the space with tables and their metadata, the LLM powering genie spaces can build SQL queries or graph templates which attempt to answer the question posed. Because of this the LLM never receives any of the data, it simply builds a query which is then run against the tables enabling the results to be returned to the user\n",
    "\n",
    "![](/Workspace/Shared/iron_ore_precessing_demo/demo_setup/images/Genie_Space.png)"
   ]
  },
  {
   "cell_type": "code",
   "execution_count": 0,
   "metadata": {
    "application/vnd.databricks.v1+cell": {
     "cellMetadata": {
      "byteLimit": 2048000,
      "rowLimit": 10000
     },
     "inputWidgets": {},
     "nuid": "5724354d-50fd-4038-aebe-ffb176da7fba",
     "showTitle": false,
     "tableResultSettingsMap": {},
     "title": ""
    },
    "jupyter": {
     "source_hidden": true
    }
   },
   "outputs": [],
   "source": [
    "import json\n",
    "\n",
    "config_path = \"../demo_setup/config.json\"\n",
    "genie_url = None\n",
    "\n",
    "try:\n",
    "    with open(config_path, \"r\") as f:\n",
    "        config = json.load(f)\n",
    "        genie_id = config['genie_id']\n",
    "        workspace_url = dbutils.notebook.entry_point.getDbutils().notebook().getContext().browserHostName().get()\n",
    "        genie_url = f\"https://{workspace_url}/genie/rooms/{genie_id}\"\n",
    "    \n",
    "    if genie_url:\n",
    "        displayHTML(f\"\"\"\n",
    "        <div style=\"padding: 20px; border-left: 5px solid #ff6b1a; background-color: #fff8f0; margin: 15px 0; border-radius: 8px;\">\n",
    "            <h3 style=\"margin: 0 0 15px 0; color: #ff6b1a; display: flex; align-items: center;\">\n",
    "                📱 Genie Space - Iron Ore Processing Demo\n",
    "            </h3>\n",
    "            <div style=\"background-color: white; padding: 15px; border-radius: 5px; border: 1px solid #ffd4b3;\">\n",
    "                <p style=\"margin: 10px 0 0 0;\">\n",
    "                    <a href='{genie_url}' target='_blank' \n",
    "                       style='background-color: #ff6b1a; color: white; padding: 12px 24px; text-decoration: none; \n",
    "                              border-radius: 5px; font-weight: bold; display: inline-block; font-size: 16px;'>\n",
    "                        🚀 Launch Genie Space →\n",
    "                    </a>\n",
    "                </p>\n",
    "            </div>\n",
    "        </div>\n",
    "        \"\"\")\n",
    "    else:\n",
    "        displayHTML(f\"\"\"\n",
    "        <div style=\"padding: 20px; border-left: 5px solid #dc3545; background-color: #fff5f5; margin: 15px 0; border-radius: 8px;\">\n",
    "            <h3 style=\"margin: 0 0 10px 0; color: #dc3545;\">⚠️ App URL Not Found</h3>\n",
    "            <p style=\"margin: 5px 0; font-size: 16px;\">\n",
    "                Could not find <strong>genie_url</strong> in config file.\n",
    "            </p>\n",
    "        </div>\n",
    "        \"\"\")\n",
    "except Exception as e:\n",
    "    displayHTML(f\"\"\"\n",
    "    <div style=\"padding: 20px; border-left: 5px solid #dc3545; background-color: #fff5f5; margin: 15px 0; border-radius: 8px;\">\n",
    "        <h3 style=\"margin: 0 0 10px 0; color: #dc3545;\">⚠️ Error Loading App URL</h3>\n",
    "        <p style=\"margin: 5px 0; font-size: 16px;\">\n",
    "            Error occurred while reading config file: {str(e)}\n",
    "        </p>\n",
    "    </div>\n",
    "    \"\"\")"
   ]
  }
 ],
 "metadata": {
  "application/vnd.databricks.v1+notebook": {
   "computePreferences": null,
   "dashboards": [],
   "environmentMetadata": {
    "base_environment": "",
    "environment_version": "2"
   },
   "inputWidgetPreferences": null,
   "language": "python",
   "notebookMetadata": {
    "pythonIndentUnit": 2
   },
   "notebookName": "09. Genie",
   "widgets": {}
  },
  "language_info": {
   "name": "python"
  }
 },
 "nbformat": 4,
 "nbformat_minor": 0
}
