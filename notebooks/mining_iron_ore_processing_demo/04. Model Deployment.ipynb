{
 "cells": [
  {
   "cell_type": "code",
   "execution_count": 0,
   "metadata": {
    "application/vnd.databricks.v1+cell": {
     "cellMetadata": {
      "byteLimit": 2048000,
      "rowLimit": 10000
     },
     "inputWidgets": {},
     "nuid": "14c73194-c121-4dac-b52d-6e209cba8043",
     "showTitle": false,
     "tableResultSettingsMap": {},
     "title": ""
    }
   },
   "outputs": [],
   "source": [
    "%run ../demo_setup/_init "
   ]
  },
  {
   "cell_type": "markdown",
   "metadata": {
    "application/vnd.databricks.v1+cell": {
     "cellMetadata": {},
     "inputWidgets": {},
     "nuid": "cb949b49-8a48-424e-8ecf-951394ec907e",
     "showTitle": false,
     "tableResultSettingsMap": {},
     "title": ""
    }
   },
   "source": [
    "# 4. 🚀 Model Serving\n",
    "\n",
    "<div style=\"text-align: center;\">\n",
    "  <img src=\"../demo_setup/images/model_serving.png\" width=\"1200px\"/> \n",
    "</div>"
   ]
  },
  {
   "cell_type": "markdown",
   "metadata": {
    "application/vnd.databricks.v1+cell": {
     "cellMetadata": {},
     "inputWidgets": {},
     "nuid": "b6821df4-5909-4154-ae5f-21f992cdf742",
     "showTitle": false,
     "tableResultSettingsMap": {},
     "title": ""
    }
   },
   "source": [
    "#### Simplified deployment for all AI models and agents\n",
    "\n",
    "Deploy any model type, from pretrained open source models to custom models built on your own data — on both CPUs and GPUs. Automated container build and infrastructure management reduce maintenance costs and speed up deployment so you can focus on building your AI agent systems and delivering value faster for your business\n",
    "\n",
    "#### Unified management for all models\n",
    "\n",
    "Manage all models, including custom ML models like PyFunc, scikit-learn and LangChain, foundation models (FMs) on Databricks like Llama 3, MPT and BGE, and foundation models hosted elsewhere like ChatGPT, Claude 3, Cohere and Stable Diffusion. Model Serving makes all models accessible in a unified user interface and API, including models hosted by Databricks, or from another model provider on Azure or AWS.\n",
    "\n",
    "\n",
    "#### Governance built-in\n",
    "\n",
    "Integrate with Mosaic AI Gateway to meet stringent security and advanced governance requirements. You can enforce proper permissions, monitor model quality, set rate limits, and track lineage across all models whether they are hosted by Databricks or on any other model provider.\n",
    "\n",
    "![](https://www.databricks.com/sites/default/files/2023-09/simplified-deployment.png?v=1696033263)"
   ]
  },
  {
   "cell_type": "markdown",
   "metadata": {
    "application/vnd.databricks.v1+cell": {
     "cellMetadata": {},
     "inputWidgets": {},
     "nuid": "4f545a3b-4bda-4c30-9a9d-ed4fb2bddb3e",
     "showTitle": false,
     "tableResultSettingsMap": {},
     "title": ""
    }
   },
   "source": [
    "# 4.1 🚀 CICD with Deployment Jobs\n",
    "\n",
    "A key final step in the end-to-end machine learning lifecycle is to deploy our model as a REST API endpoint using **Databricks Model Serving.**\n",
    "\n",
    "To accomplish this we will leverage best practice with **CICD** (continuous integration, continuous deployment) to automatically deploy our model once a new version is registered into unity catalog. We accomplish this via **Deployment Jobs.**\n",
    "\n",
    "![](../demo_setup/images/simple-deployment-job.png)\n",
    "\n",
    "Our Deployment job has the below steps:\n",
    "- Approve model deployment\n",
    "- Deploy new version of the model as a REST endpoint\n",
    "\n",
    "This process is fully automated, all it requires is someone to approve the deployment after the job detects a new model version has been registered.\n",
    "\n",
    "![](../demo_setup/images/deployment_approval.png)\n",
    "\n",
    "See documentation here: [Deployment Jobs](https://docs.databricks.com/aws/en/mlflow/deployment-job)\n"
   ]
  },
  {
   "cell_type": "code",
   "execution_count": 0,
   "metadata": {
    "application/vnd.databricks.v1+cell": {
     "cellMetadata": {
      "byteLimit": 2048000,
      "rowLimit": 10000
     },
     "inputWidgets": {},
     "nuid": "403098c8-e57c-4019-9c17-e608d9852ffc",
     "showTitle": false,
     "tableResultSettingsMap": {},
     "title": ""
    }
   },
   "outputs": [],
   "source": [
    "# Generate workspace URL using current notebook context\n",
    "workspace_url = dbutils.notebook.entry_point.getDbutils().notebook().getContext().browserHostName().get()\n",
    "\n",
    "# Construct dynamic deployment job URL for Si Model\n",
    "deployment_job_url = f\"https://{workspace_url}/explore/data/models/{catalog_name}/{schema_name}/si_model\"\n",
    "\n",
    "displayHTML(f\"\"\"\n",
    "<div style=\"padding: 10px; border-left: 4px solid #0073e6; background-color: #f0f8ff; margin: 10px 0;\">\n",
    "    <h4 style=\"margin: 0; color: #0073e6;\">🚀 Deployment Job for Si Model</h4>\n",
    "    <p style=\"margin: 5px 0 0 0;\">\n",
    "        <a href=\"{deployment_job_url}\" target=\"_blank\" style=\"font-size: 16px; color: #0073e6; text-decoration: none;\">\n",
    "            Click here to view the deployment job →\n",
    "        </a>\n",
    "    </p>\n",
    "</div>\n",
    "\"\"\")"
   ]
  }
 ],
 "metadata": {
  "application/vnd.databricks.v1+notebook": {
   "computePreferences": null,
   "dashboards": [],
   "environmentMetadata": {
    "base_environment": "",
    "environment_version": "2"
   },
   "inputWidgetPreferences": null,
   "language": "python",
   "notebookMetadata": {
    "pythonIndentUnit": 2
   },
   "notebookName": "04. Model Deployment",
   "widgets": {}
  },
  "language_info": {
   "name": "python"
  }
 },
 "nbformat": 4,
 "nbformat_minor": 0
}
