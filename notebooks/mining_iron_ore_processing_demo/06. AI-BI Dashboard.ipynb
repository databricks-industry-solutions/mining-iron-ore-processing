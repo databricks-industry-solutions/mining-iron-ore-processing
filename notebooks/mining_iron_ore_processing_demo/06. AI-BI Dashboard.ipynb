{
 "cells": [
  {
   "cell_type": "code",
   "execution_count": 0,
   "metadata": {
    "application/vnd.databricks.v1+cell": {
     "cellMetadata": {
      "byteLimit": 2048000,
      "rowLimit": 10000
     },
     "collapsed": true,
     "inputWidgets": {},
     "nuid": "91199f72-25e2-4000-ade9-0e90ecf44540",
     "showTitle": false,
     "tableResultSettingsMap": {},
     "title": ""
    }
   },
   "outputs": [],
   "source": [
    "assert(\"To Fix - Get Genie URL\")"
   ]
  },
  {
   "cell_type": "markdown",
   "metadata": {
    "application/vnd.databricks.v1+cell": {
     "cellMetadata": {},
     "inputWidgets": {},
     "nuid": "f06a81b0-fda5-40fa-9f34-24eac2c79509",
     "showTitle": false,
     "tableResultSettingsMap": {},
     "title": ""
    }
   },
   "source": [
    "## 6 Dashboard for Model Output and Optimisation Visualisation\n",
    "\n",
    "Having run our model to generate the predicted Fe and Si concentrate, we can store plot the observations to visually see how effective the predictions are.\n",
    "\n",
    "We can also store the optimisations for the Fe concentrate to see how our model optimisation tracks against the observed data for the out of time dataset."
   ]
  },
  {
   "cell_type": "code",
   "execution_count": 0,
   "metadata": {
    "application/vnd.databricks.v1+cell": {
     "cellMetadata": {
      "byteLimit": 2048000,
      "rowLimit": 10000
     },
     "inputWidgets": {},
     "nuid": "5368ce3a-daac-4b2d-90f0-444577938b98",
     "showTitle": false,
     "tableResultSettingsMap": {},
     "title": ""
    },
    "jupyter": {
     "source_hidden": true
    }
   },
   "outputs": [],
   "source": [
    "# Dynamically find and generate Genie space URL\n",
    "from databricks.sdk import WorkspaceClient\n",
    "\n",
    "w = WorkspaceClient()\n",
    "host_url = dbutils.notebook.entry_point.getDbutils().notebook().getContext().apiUrl().get()\n",
    "\n",
    "# Find the Genie space by name\n",
    "genie_space_name = \"Fe Concentrator Genie Space\"\n",
    "genie_space = None\n",
    "\n",
    "try:\n",
    "    # List all Genie spaces and find the one with our target name\n",
    "    genie_spaces = w.genie.list_spaces()\n",
    "    for space in genie_spaces:\n",
    "        if space.display_name == genie_space_name:\n",
    "            genie_space = space\n",
    "            break\n",
    "    \n",
    "    if genie_space:\n",
    "        # Construct the dynamic Genie space URL\n",
    "        genie_url = f\"{host_url}/genie/spaces/{genie_space.space_id}\"\n",
    "        \n",
    "        displayHTML(f\"\"\"\n",
    "        <div style=\"padding: 15px; border-left: 4px solid #00a86b; background-color: #f0fff4; margin: 10px 0;\">\n",
    "            <h3 style=\"margin: 0 0 10px 0; color: #00a86b;\">🧞‍♂️ Fe Concentrator Genie Space</h3>\n",
    "            <p style=\"margin: 5px 0;\">\n",
    "                <b style='font-size:18px;'>Dashboard URL:</b> \n",
    "                <a href='{genie_url}' target='_blank' style='font-size:18px; color: #00a86b; text-decoration: none;'>\n",
    "                    {genie_url} →\n",
    "                </a>\n",
    "            </p>\n",
    "        </div>\n",
    "        \"\"\")\n",
    "    else:\n",
    "        # Fallback if Genie space not found\n",
    "        displayHTML(f\"\"\"\n",
    "        <div style=\"padding: 15px; border-left: 4px solid #ff6b6b; background-color: #fff5f5; margin: 10px 0;\">\n",
    "            <h3 style=\"margin: 0 0 10px 0; color: #ff6b6b;\">⚠️ Genie Space Not Found</h3>\n",
    "            <p style=\"margin: 5px 0;\">\n",
    "                Could not find Genie space named \"<b>{genie_space_name}</b>\". \n",
    "                Please ensure the Genie space has been created by running the setup workflow.\n",
    "            </p>\n",
    "        </div>\n",
    "        \"\"\")\n",
    "        \n",
    "except Exception as e:\n",
    "    # Handle any API errors gracefully\n",
    "    displayHTML(f\"\"\"\n",
    "    <div style=\"padding: 15px; border-left: 4px solid #ff6b6b; background-color: #fff5f5; margin: 10px 0;\">\n",
    "        <h3 style=\"margin: 0 0 10px 0; color: #ff6b6b;\">⚠️ Error Loading Genie Space</h3>\n",
    "        <p style=\"margin: 5px 0;\">\n",
    "            Error occurred while looking up Genie space: {str(e)}\n",
    "        </p>\n",
    "    </div>\n",
    "    \"\"\")"
   ]
  },
  {
   "cell_type": "markdown",
   "metadata": {
    "application/vnd.databricks.v1+cell": {
     "cellMetadata": {},
     "inputWidgets": {},
     "nuid": "8209c8c2-13c2-4ccf-a757-5896e4303305",
     "showTitle": false,
     "tableResultSettingsMap": {},
     "title": ""
    }
   },
   "source": [
    "![](/Workspace/Shared/iron_ore_precessing_demo/demo_setup/images/Optimisation-Dashboard.png)"
   ]
  },
  {
   "cell_type": "code",
   "execution_count": 0,
   "metadata": {
    "application/vnd.databricks.v1+cell": {
     "cellMetadata": {},
     "inputWidgets": {},
     "nuid": "5fef2e0e-ae23-47cf-ae6d-f68cce1214e0",
     "showTitle": false,
     "tableResultSettingsMap": {},
     "title": ""
    }
   },
   "outputs": [],
   "source": []
  }
 ],
 "metadata": {
  "application/vnd.databricks.v1+notebook": {
   "computePreferences": null,
   "dashboards": [],
   "environmentMetadata": {
    "base_environment": "",
    "environment_version": "2"
   },
   "inputWidgetPreferences": null,
   "language": "python",
   "notebookMetadata": {
    "pythonIndentUnit": 2
   },
   "notebookName": "06. AI-BI Dashboard",
   "widgets": {}
  },
  "language_info": {
   "name": "python"
  }
 },
 "nbformat": 4,
 "nbformat_minor": 0
}
