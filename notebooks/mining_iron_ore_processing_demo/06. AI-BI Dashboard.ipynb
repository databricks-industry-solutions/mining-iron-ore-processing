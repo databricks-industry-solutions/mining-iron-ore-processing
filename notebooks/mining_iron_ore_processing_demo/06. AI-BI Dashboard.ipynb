{
 "cells": [
  {
   "cell_type": "code",
   "execution_count": 0,
   "metadata": {
    "application/vnd.databricks.v1+cell": {
     "cellMetadata": {
      "byteLimit": 2048000,
      "rowLimit": 10000
     },
     "inputWidgets": {},
     "nuid": "91199f72-25e2-4000-ade9-0e90ecf44540",
     "showTitle": false,
     "tableResultSettingsMap": {},
     "title": ""
    }
   },
   "outputs": [],
   "source": [
    "%run ../demo_setup/_init"
   ]
  },
  {
   "cell_type": "markdown",
   "metadata": {
    "application/vnd.databricks.v1+cell": {
     "cellMetadata": {},
     "inputWidgets": {},
     "nuid": "f06a81b0-fda5-40fa-9f34-24eac2c79509",
     "showTitle": false,
     "tableResultSettingsMap": {},
     "title": ""
    }
   },
   "source": [
    "## 6 Dashboard for Model Output and Optimisation Visualisation\n",
    "\n",
    "Having run our model to generate the predicted Fe and Si concentrate, we can store plot the observations to visually see how effective the predictions are.\n",
    "\n",
    "We can also store the optimisations for the Fe concentrate to see how our model optimisation tracks against the observed data for the out of time dataset."
   ]
  },
  {
   "cell_type": "code",
   "execution_count": 0,
   "metadata": {
    "application/vnd.databricks.v1+cell": {
     "cellMetadata": {
      "byteLimit": 2048000,
      "rowLimit": 10000
     },
     "inputWidgets": {},
     "nuid": "5fef2e0e-ae23-47cf-ae6d-f68cce1214e0",
     "showTitle": true,
     "tableResultSettingsMap": {},
     "title": "Run to launch the dashboard"
    },
    "jupyter": {
     "source_hidden": true
    }
   },
   "outputs": [],
   "source": [
    "import os\n",
    "from databricks.sdk import WorkspaceClient\n",
    "dashboard_source = os.path.normpath(os.path.join(os.getcwd(), \"../../dashboards/Fe Concentrator Prediction Dashboard.lvdash.json\"))\n",
    "dashboard_id = WorkspaceClient().workspace.get_status(dashboard_source).resource_id\n",
    "\n",
    "display_launch(\n",
    "  f\"/sql/dashboardsv3/{dashboard_id}\",\n",
    "  \"Launch Dashboard\",\n",
    "  \"AI/BI Dashboards - Model Output and Optimisation Visualisation\"\n",
    ")"
   ]
  }
 ],
 "metadata": {
  "application/vnd.databricks.v1+notebook": {
   "computePreferences": null,
   "dashboards": [],
   "environmentMetadata": {
    "base_environment": "",
    "environment_version": "2"
   },
   "inputWidgetPreferences": null,
   "language": "python",
   "notebookMetadata": {
    "pythonIndentUnit": 2
   },
   "notebookName": "06. AI-BI Dashboard",
   "widgets": {}
  },
  "language_info": {
   "name": "python"
  }
 },
 "nbformat": 4,
 "nbformat_minor": 0
}
