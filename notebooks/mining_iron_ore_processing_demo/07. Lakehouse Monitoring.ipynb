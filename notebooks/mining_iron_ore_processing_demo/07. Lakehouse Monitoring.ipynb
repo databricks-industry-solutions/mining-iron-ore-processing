{
 "cells": [
  {
   "cell_type": "code",
   "execution_count": 0,
   "metadata": {
    "application/vnd.databricks.v1+cell": {
     "cellMetadata": {
      "byteLimit": 2048000,
      "rowLimit": 10000
     },
     "collapsed": true,
     "inputWidgets": {},
     "nuid": "c1ccc552-d35d-43dd-abea-873f0d8ce8a2",
     "showTitle": false,
     "tableResultSettingsMap": {},
     "title": ""
    }
   },
   "outputs": [],
   "source": [
    "%run ../demo_setup/_init "
   ]
  },
  {
   "cell_type": "markdown",
   "metadata": {
    "application/vnd.databricks.v1+cell": {
     "cellMetadata": {
      "byteLimit": 2048000,
      "rowLimit": 10000
     },
     "inputWidgets": {},
     "nuid": "b1eac19f-fda5-4e2c-b802-91c64c62ff8f",
     "showTitle": false,
     "tableResultSettingsMap": {},
     "title": ""
    }
   },
   "source": [
    "# 7. Lakehouse Monitoring\n",
    "\n",
    "This section showcases Databricks Lakehouse Monitoring, which provides unified visibility across data pipelines, models, and infrastructure—helping teams quickly detect issues, ensure data quality, and maintain reliable AI and analytics workflows."
   ]
  },
  {
   "cell_type": "markdown",
   "metadata": {
    "application/vnd.databricks.v1+cell": {
     "cellMetadata": {
      "byteLimit": 2048000,
      "rowLimit": 10000
     },
     "inputWidgets": {},
     "nuid": "8ef54c5f-acad-4e72-a72a-cbf7e2331494",
     "showTitle": false,
     "tableResultSettingsMap": {},
     "title": ""
    }
   },
   "source": [
    "![](../demo_setup/images/DataQuality.png)"
   ]
  },
  {
   "cell_type": "markdown",
   "metadata": {
    "application/vnd.databricks.v1+cell": {
     "cellMetadata": {
      "byteLimit": 2048000,
      "rowLimit": 10000
     },
     "inputWidgets": {},
     "nuid": "12a56ca8-7e0b-40f9-ac02-fb8423f11c7b",
     "showTitle": false,
     "tableResultSettingsMap": {},
     "title": ""
    }
   },
   "source": [
    "## 7.1 🛡️ Data Quality and Anomaly Detection\n",
    "We can leverage automated Data Quality and Anomaly detection to periodically scan our tables and generate alerts and incidents as Data Quality changes over time. It can monitor for freshness and values out of range etc.\n"
   ]
  },
  {
   "cell_type": "code",
   "execution_count": 0,
   "metadata": {
    "application/vnd.databricks.v1+cell": {
     "cellMetadata": {
      "byteLimit": 2048000,
      "rowLimit": 10000
     },
     "collapsed": true,
     "inputWidgets": {},
     "nuid": "bfaa13bf-866a-4517-bfc8-f70c44c93510",
     "showTitle": false,
     "tableResultSettingsMap": {},
     "title": ""
    }
   },
   "outputs": [],
   "source": [
    "host_url = dbutils.notebook.entry_point.getDbutils().notebook().getContext().browserHostName().get()\n",
    "anomaly_url = f\"https://{host_url}/explore/data/{catalog_name}/{schema_name}/ml_oot_data?activeTab=quality\"\n",
    "\n",
    "if anomaly_url:\n",
    "    displayHTML(f\"\"\"\n",
    "    <div style=\"padding: 20px; border-left: 5px solid #ff6b1a; background-color: #fff8f0; margin: 15px 0; border-radius: 8px;\">\n",
    "        <h3 style=\"margin: 0 0 15px 0; color: #ff6b1a; display: flex; align-items: center;\">\n",
    "            📱 Anomaly Detection\n",
    "        </h3>\n",
    "        <div style=\"background-color: white; padding: 15px; border-radius: 5px; border: 1px solid #ffd4b3;\">\n",
    "            <p style=\"margin: 10px 0 0 0;\">\n",
    "                <a href='{anomaly_url}' target='_blank' \n",
    "                    style='background-color: #ff6b1a; color: white; padding: 12px 24px; text-decoration: none; \n",
    "                          border-radius: 5px; font-weight: bold; display: inline-block; font-size: 16px;'>\n",
    "                    🚀 Open Anomaly Detection For a Single Table →\n",
    "                </a>\n",
    "            </p>\n",
    "        </div>\n",
    "    </div>\n",
    "    \"\"\")\n",
    "else:\n",
    "    displayHTML(f\"\"\"\n",
    "    <div style=\"padding: 20px; border-left: 5px solid #dc3545; background-color: #fff5f5; margin: 15px 0; border-radius: 8px;\">\n",
    "        <h3 style=\"margin: 0 0 10px 0; color: #dc3545;\">⚠️ App URL Not Found</h3>\n",
    "        <p style=\"margin: 5px 0; font-size: 16px;\">\n",
    "            Could not find <strong>genie_url</strong> in config file.\n",
    "        </p>\n",
    "    </div>\n",
    "    \"\"\")"
   ]
  },
  {
   "cell_type": "markdown",
   "metadata": {
    "application/vnd.databricks.v1+cell": {
     "cellMetadata": {
      "byteLimit": 2048000,
      "rowLimit": 10000
     },
     "inputWidgets": {},
     "nuid": "791aff22-2352-4b30-a89f-44d6f9cee3e3",
     "showTitle": false,
     "tableResultSettingsMap": {},
     "title": ""
    }
   },
   "source": [
    "## 7.2 Anomaly Detection Dashboard\n",
    "\n",
    "![](https://docs.databricks.com/aws/en/assets/images/anomaly-detection-dashboard-quality-overview-schema-summary-d8ef475ba3191b575cf43d1583491fc8.png)"
   ]
  },
  {
   "cell_type": "code",
   "execution_count": 0,
   "metadata": {
    "application/vnd.databricks.v1+cell": {
     "cellMetadata": {
      "byteLimit": 2048000,
      "rowLimit": 10000
     },
     "inputWidgets": {},
     "nuid": "d09612a9-d04f-4cc8-8012-add13426243d",
     "showTitle": false,
     "tableResultSettingsMap": {},
     "title": ""
    },
    "jupyter": {
     "source_hidden": true
    }
   },
   "outputs": [],
   "source": [
    "host_url = dbutils.notebook.entry_point.getDbutils().notebook().getContext().browserHostName().get()\n",
    "monitoring_url = f\"https://{host_url}/explore/data/{catalog_name}/{schema_name}?activeTab=details\"\n",
    "import json\n",
    "    \n",
    "if monitoring_url:\n",
    "    displayHTML(f\"\"\"\n",
    "    <div style=\"padding: 20px; border-left: 5px solid #ff6b1a; background-color: #fff8f0; margin: 15px 0; border-radius: 8px;\">\n",
    "        <h3 style=\"margin: 0 0 15px 0; color: #ff6b1a; display: flex; align-items: center;\">\n",
    "            📱 Monitoring You Data Quality\n",
    "        </h3>\n",
    "        <div style=\"background-color: white; padding: 15px; border-radius: 5px; border: 1px solid #ffd4b3;\">\n",
    "            <p style=\"margin: 10px 0 0 0;\">\n",
    "                <a href='{monitoring_url}' target='_blank' \n",
    "                    style='background-color: #ff6b1a; color: white; padding: 12px 24px; text-decoration: none; \n",
    "                          border-radius: 5px; font-weight: bold; display: inline-block; font-size: 16px;'>\n",
    "                    🚀 Open Monitoring Page →\n",
    "                </a>\n",
    "            </p>\n",
    "        </div>\n",
    "    </div>\n",
    "    \"\"\")\n",
    "else:\n",
    "    displayHTML(f\"\"\"\n",
    "    <div style=\"padding: 20px; border-left: 5px solid #dc3545; background-color: #fff5f5; margin: 15px 0; border-radius: 8px;\">\n",
    "        <h3 style=\"margin: 0 0 10px 0; color: #dc3545;\">⚠️ App URL Not Found</h3>\n",
    "        <p style=\"margin: 5px 0; font-size: 16px;\">\n",
    "            Could not find <strong>genie_url</strong> in config file.\n",
    "        </p>\n",
    "    </div>\n",
    "    \"\"\")"
   ]
  }
 ],
 "metadata": {
  "application/vnd.databricks.v1+notebook": {
   "computePreferences": null,
   "dashboards": [],
   "environmentMetadata": {
    "base_environment": "",
    "environment_version": "2"
   },
   "inputWidgetPreferences": null,
   "language": "python",
   "notebookMetadata": {
    "pythonIndentUnit": 2
   },
   "notebookName": "07. Lakehouse Monitoring",
   "widgets": {}
  },
  "language_info": {
   "name": "python"
  }
 },
 "nbformat": 4,
 "nbformat_minor": 0
}
