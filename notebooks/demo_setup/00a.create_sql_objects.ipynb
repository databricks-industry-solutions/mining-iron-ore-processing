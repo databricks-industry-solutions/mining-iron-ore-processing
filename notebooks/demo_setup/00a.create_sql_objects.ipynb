{
  "cells": [
    {
      "cell_type": "code",
      "execution_count": null,
      "metadata": {},
      "outputs": [],
      "source": [
        "%run ../00.set_variables\n"
      ]
    },
    {
      "cell_type": "code",
      "execution_count": null,
      "metadata": {},
      "outputs": [],
      "source": [
        "# Create a catalog, schema and volume\n",
        "\n",
        "spark.sql(f\"CREATE CATALOG IF NOT EXISTS {catalog_name}\")\n",
        "spark.sql(f\"CREATE SCHEMA IF NOT EXISTS {catalog_name}.{schema_name}\")\n",
        "spark.sql(f\"CREATE VOLUME IF NOT EXISTS {catalog_name}.{schema_name}.{volume_name}\")\n",
        "\n",
        "# Grant all permissions on the catalog to all account users (crude but will avoid downstream issues)\n",
        "spark.sql(f\"GRANT ALL PRIVILEGES ON CATALOG {catalog_name} TO `account users`\")\n",
        "\n",
        "print(f\"Created catalog: {catalog_name}\")\n",
        "print(f\"Created schema: {catalog_name}.{schema_name}\")\n",
        "print(f\"Created volume: {catalog_name}.{schema_name}.{volume_name}\")\n"
      ]
    }
  ],
  "metadata": {
    "language_info": {
      "name": "python"
    }
  },
  "nbformat": 4,
  "nbformat_minor": 2
}
