{
 "cells": [
  {
   "cell_type": "code",
   "execution_count": 0,
   "metadata": {
    "application/vnd.databricks.v1+cell": {
     "cellMetadata": {},
     "inputWidgets": {},
     "nuid": "884559ce-b00f-4b17-a0cf-d83d08bb0536",
     "showTitle": false,
     "tableResultSettingsMap": {},
     "title": ""
    }
   },
   "outputs": [],
   "source": [
    "import os\n",
    "if str.lower(dbutils.widgets.getAll().get(\"install_ml_libs\", \"False\")) == \"true\":\n",
    "  print(\"Installing ML libraries...\")\n",
    "  os.system(\"pip install -qqqq lightgbm databricks-feature-store bayesian-optimization mlflow hyperopt shap databricks-automl-runtime\")\n",
    "  dbutils.library.restartPython()"
   ]
  },
  {
   "cell_type": "code",
   "execution_count": 0,
   "metadata": {
    "application/vnd.databricks.v1+cell": {
     "cellMetadata": {},
     "inputWidgets": {},
     "nuid": "48231f35-dc95-46c7-b97f-75ab43d80271",
     "showTitle": false,
     "tableResultSettingsMap": {},
     "title": ""
    }
   },
   "outputs": [],
   "source": [
    "import json\n",
    "import os\n",
    "\n",
    "def _get_config():\n",
    "\n",
    "  # Config should be stored at <solution_accelerator_root>/notebooks/demo_setup/config.json\n",
    "  # We are expecting _init.ipynb to be run from somewhere within the notebooks folder\n",
    "  # Databricks will set the current working directory to currently running notebook\n",
    "  # This will traverse up the folder structure until it finds the notebooks folder\n",
    "  notebook_root = os.getcwd()\n",
    "  while not notebook_root.endswith('/notebooks'):\n",
    "      parent = os.path.dirname(notebook_root)\n",
    "      if parent == notebook_root:\n",
    "          break\n",
    "      notebook_root = parent\n",
    "  notebook_root\n",
    "  json_config_path = os.path.join(notebook_root, \"demo_setup/config.json\")\n",
    "\n",
    "  # The DABS setup job should inject the config as job params, and set the load_config_from_file param to False\n",
    "  # If this check is absent, we'll assume the user is running the notebook interactively and load the config from the file\n",
    "  config = dbutils.widgets.getAll()\n",
    "  if str.lower(config.get(\"load_config_from_file\", \"True\")) == \"true\":\n",
    "    try:\n",
    "      with open(json_config_path, \"r\") as f:\n",
    "        config = json.load(f)\n",
    "    except:\n",
    "      # If we can't load the config from the file, assume that the setup process wasn't run\n",
    "      print(f\"❌ Could not load config from {json_config_path}\")\n",
    "      print(f\"Make sure that you have:\")\n",
    "      print(f\"   1. Deployed this Solution Accelerator using Databricks Asset Bundles from the UI\")\n",
    "      print(f\"   2. Run the deploy-iops-demo-workflow job, which will create the config.json file\")\n",
    "      print(f\"If you are deploying the bundle from the CLI, you will need to manually configure the config.json file\")\n",
    "      print(f\"Expected paramters are:\")\n",
    "      print(f\"   1. catalog_name\")\n",
    "      print(f\"   2. schema_name\")\n",
    "      print(f\"   3. volume_name\")\n",
    "      raise Exception(\n",
    "        \"Could not load config. Please ensure you have run the setup job (deploy-iops-demo-workflow) created by Databricks Asset Bundles\")\n",
    "  else:\n",
    "    # Preserve existing keys if config file already exists\n",
    "    existing_config = {}\n",
    "    if os.path.exists(json_config_path):\n",
    "      try:\n",
    "        with open(json_config_path, \"r\") as f:\n",
    "          existing_config = json.load(f)\n",
    "        print(f\"📄 Found existing config file, preserving additional keys...\")\n",
    "      except:\n",
    "        print(f\"⚠️ Could not read existing config file, creating new one...\")\n",
    "        existing_config = {}\n",
    "    \n",
    "    # Merge widget config with existing config (widget config takes precedence for standard keys)\n",
    "    merged_config = existing_config.copy()\n",
    "    merged_config.update(config)\n",
    "    \n",
    "    with open(json_config_path, \"w\") as f:\n",
    "      json.dump(merged_config, f, indent=2)\n",
    "    \n",
    "    # Update config to use the merged version\n",
    "    config = merged_config\n",
    "\n",
    "  return config\n",
    "\n",
    "config = _get_config()\n",
    "\n",
    "catalog_name = config['catalog_name']\n",
    "schema_name = config['schema_name']\n",
    "volume_name = config['volume_name']\n",
    "genie_id = config.get('genie_id')\n",
    "dashboard_id = config.get('dashboard_id')\n",
    "app_url = config.get('app_url')\n",
    "\n",
    "print(f\"✅ Variables configured:\")\n",
    "print(f\"   📁 Catalog: {catalog_name}\")\n",
    "print(f\"   📂 Schema: {schema_name}\")\n",
    "print(f\"   💾 Volume: {volume_name}\")"
   ]
  },
  {
   "cell_type": "code",
   "execution_count": 0,
   "metadata": {
    "application/vnd.databricks.v1+cell": {
     "cellMetadata": {},
     "inputWidgets": {},
     "nuid": "af9bc97f-1267-4360-8cac-55fb2ca15e01",
     "showTitle": false,
     "tableResultSettingsMap": {},
     "title": ""
    }
   },
   "outputs": [],
   "source": [
    "### Helper functions for the demo ###"
   ]
  },
  {
   "cell_type": "code",
   "execution_count": 0,
   "metadata": {
    "application/vnd.databricks.v1+cell": {
     "cellMetadata": {},
     "inputWidgets": {},
     "nuid": "4f10a042-3d19-465c-a4c3-bd491de7d874",
     "showTitle": false,
     "tableResultSettingsMap": {},
     "title": ""
    }
   },
   "outputs": [],
   "source": [
    "def drop_fs_table(table_name):\n",
    "  from databricks.feature_store import FeatureStoreClient\n",
    "  fs = FeatureStoreClient()\n",
    "  try:\n",
    "    fs.drop_table(table_name)  \n",
    "  except Exception as e:\n",
    "    print(f\"Can't drop the fs table, probably doesn't exist? {e}\")\n",
    "  try:\n",
    "    spark.sql(f\"DROP TABLE IF EXISTS `{table_name}`\")\n",
    "  except Exception as e:\n",
    "    print(f\"Can't drop the delta table, probably doesn't exist? {e}\")"
   ]
  },
  {
   "cell_type": "code",
   "execution_count": 0,
   "metadata": {
    "application/vnd.databricks.v1+cell": {
     "cellMetadata": {},
     "inputWidgets": {},
     "nuid": "f9a29559-6e58-4895-ad31-0a9f408bd008",
     "showTitle": false,
     "tableResultSettingsMap": {},
     "title": ""
    }
   },
   "outputs": [],
   "source": [
    "\n",
    "def display_launch(url, text, description=None):\n",
    "    displayHTML(f\"\"\"\n",
    "        <div style=\"padding: 20px; border-left: 5px solid #ff6b1a; background-color: #fff8f0; margin: 15px 0; border-radius: 8px;\">\n",
    "            <h3 style=\"margin: 0 0 15px 0; color: #ff6b1a; display: flex; align-items: center;\">\n",
    "                {\"📱 \" + description if description else \"\"}\n",
    "            </h3>\n",
    "                <p style=\"margin: 10px 0 0 0;\">\n",
    "                    <a href='{url}' target='_blank' \n",
    "                       style='background-color: #ff6b1a; color: white; padding: 12px 24px; text-decoration: none; \n",
    "                              border-radius: 5px; font-weight: bold; display: inline-block; font-size: 16px;'>\n",
    "                       🚀 {text} →\n",
    "                    </a>\n",
    "                </p>\n",
    "        </div>\n",
    "        \"\"\")"
   ]
  },
  {
   "cell_type": "code",
   "execution_count": 0,
   "metadata": {
    "application/vnd.databricks.v1+cell": {
     "cellMetadata": {},
     "inputWidgets": {},
     "nuid": "0ee03276-351c-45f4-a3b9-2101672d078f",
     "showTitle": false,
     "tableResultSettingsMap": {},
     "title": ""
    }
   },
   "outputs": [],
   "source": [
    "def display_launch_error(message, detail):\n",
    "    displayHTML(f\"\"\"\n",
    "    <div style=\"padding: 20px; border-left: 5px solid #dc3545; background-color: #fff5f5; margin: 15px 0; border-radius: 8px;\">\n",
    "        <h3 style=\"margin: 0 0 10px 0; color: #dc3545;\">⚠️ {message}</h3>\n",
    "        <p style=\"margin: 5px 0; font-size: 16px;\">\n",
    "            {detail}\n",
    "        </p>\n",
    "    </div>\n",
    "    \"\"\")"
   ]
  }
 ],
 "metadata": {
  "application/vnd.databricks.v1+notebook": {
   "computePreferences": null,
   "dashboards": [],
   "environmentMetadata": {
    "base_environment": "",
    "environment_version": "2"
   },
   "inputWidgetPreferences": null,
   "language": "python",
   "notebookMetadata": {
    "pythonIndentUnit": 2
   },
   "notebookName": "_init",
   "widgets": {}
  },
  "language_info": {
   "name": "python"
  }
 },
 "nbformat": 4,
 "nbformat_minor": 0
}
