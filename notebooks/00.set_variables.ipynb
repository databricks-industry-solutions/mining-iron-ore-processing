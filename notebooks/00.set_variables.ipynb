{
 "cells": [
  {
   "cell_type": "code",
   "execution_count": 0,
   "metadata": {
    "application/vnd.databricks.v1+cell": {
     "cellMetadata": {},
     "inputWidgets": {},
     "nuid": "35055391-e42e-45b5-bed5-59379f4b669b",
     "showTitle": false,
     "tableResultSettingsMap": {},
     "title": ""
    }
   },
   "outputs": [],
   "source": [
    "# Variable Setter for Mining Processing Demo\n",
    "# This notebook sets catalog, schema, and volume variables from databricks.yml\n",
    "\n",
    "import yaml\n",
    "import os\n",
    "\n",
    "def set_variables_from_yaml():\n",
    "    \"\"\"Set catalog and schema variables from databricks.yml configuration\"\"\"\n",
    "    # Get the path to the databricks.yml file (assuming we're in notebooks/ subdirectory)\n",
    "    yaml_path = os.path.join(os.path.dirname(os.getcwd()), \"databricks.yml\")\n",
    "    \n",
    "    if not os.path.exists(yaml_path):\n",
    "        # Try alternative path if in a deeper subdirectory\n",
    "        yaml_path = os.path.join(os.path.dirname(os.path.dirname(os.getcwd())), \"databricks.yml\")\n",
    "    \n",
    "    with open(yaml_path, 'r') as file:\n",
    "        config = yaml.safe_load(file)\n",
    "    \n",
    "    # Extract schema resource configuration\n",
    "    schema_config = config['resources']['schemas']['mining-processing-demo']\n",
    "    \n",
    "    return {\n",
    "        'catalog_name': schema_config['catalog_name'],\n",
    "        'schema_name': schema_config['name'],\n",
    "        'volume_name': 'mining_processing_demo_volume'  # This is defined in the pipeline config\n",
    "    }\n",
    "\n",
    "# Set the global variables from databricks.yml\n",
    "config = set_variables_from_yaml()\n",
    "catalog_name = config['catalog_name']\n",
    "schema_name = config['schema_name']\n",
    "volume_name = config['volume_name']\n",
    "\n",
    "print(f\"✅ Variables set from databricks.yml:\")\n",
    "print(f\"   📁 Catalog: {catalog_name}\")\n",
    "print(f\"   📂 Schema: {schema_name}\")\n",
    "print(f\"   💾 Volume: {volume_name}\")"
   ]
  }
 ],
 "metadata": {
  "application/vnd.databricks.v1+notebook": {
   "computePreferences": null,
   "dashboards": [],
   "environmentMetadata": {
    "base_environment": "",
    "environment_version": "2"
   },
   "inputWidgetPreferences": null,
   "language": "python",
   "notebookMetadata": {
    "pythonIndentUnit": 2
   },
   "notebookName": "00.set_variables",
   "widgets": {}
  },
  "language_info": {
   "name": "python"
  }
 },
 "nbformat": 4,
 "nbformat_minor": 0
}
